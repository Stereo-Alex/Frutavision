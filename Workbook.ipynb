{
 "cells": [
  {
   "cell_type": "markdown",
   "id": "affiliated-bernard",
   "metadata": {},
   "source": [
    "# Creating a df with the paths"
   ]
  },
  {
   "cell_type": "code",
   "execution_count": 43,
   "id": "lesser-installation",
   "metadata": {
    "ExecuteTime": {
     "end_time": "2021-05-04T08:56:16.843801Z",
     "start_time": "2021-05-04T08:56:16.374254Z"
    }
   },
   "outputs": [],
   "source": [
    "import pandas as pd\n",
    "import numpy as np\n",
    "import os \n",
    "import cv2\n",
    "import matplotlib.pyplot as plt"
   ]
  },
  {
   "cell_type": "code",
   "execution_count": 34,
   "id": "known-updating",
   "metadata": {
    "ExecuteTime": {
     "end_time": "2021-05-04T08:54:07.021482Z",
     "start_time": "2021-05-04T08:54:07.015469Z"
    }
   },
   "outputs": [],
   "source": [
    "apple_path = 'Data/Apple'\n",
    "banana_path = 'Data/Banana'\n",
    "carambola_path = 'Data/Carambola'\n",
    "guava_path = 'Data/Guava'\n",
    "kiwi_path = 'Data/Kiwi'\n",
    "mango_path = 'Data/Mango'\n",
    "muskmelon_path = 'Data/muskmelon'\n",
    "orange_path = 'Data/Orange'\n",
    "peach_path =  'Data/Peach'\n",
    "pear_path = 'Data/Pear'\n",
    "persimmon_path = 'Data/Persimmon'\n",
    "pitaya_path = 'Data/Pitaya'\n",
    "plum_path = 'Data/Plum'\n",
    "pomegranate_path = 'Data/Pomegranate'\n",
    "tomatoes_path = 'Data/Tomatoes'\n"
   ]
  },
  {
   "cell_type": "code",
   "execution_count": 35,
   "id": "judicial-species",
   "metadata": {
    "ExecuteTime": {
     "end_time": "2021-05-04T08:54:07.334559Z",
     "start_time": "2021-05-04T08:54:07.329784Z"
    }
   },
   "outputs": [],
   "source": [
    "list_of_paths = [apple_path, banana_path, carambola_path, guava_path,\n",
    "                kiwi_path, mango_path, muskmelon_path, orange_path,\n",
    "                peach_path, pear_path, persimmon_path, pitaya_path,\n",
    "                plum_path, pomegranate_path, tomatoes_path]"
   ]
  },
  {
   "cell_type": "code",
   "execution_count": 36,
   "id": "accomplished-founder",
   "metadata": {
    "ExecuteTime": {
     "end_time": "2021-05-04T08:54:07.629380Z",
     "start_time": "2021-05-04T08:54:07.622825Z"
    }
   },
   "outputs": [
    {
     "data": {
      "text/plain": [
       "'Data/Apple'"
      ]
     },
     "execution_count": 36,
     "metadata": {},
     "output_type": "execute_result"
    }
   ],
   "source": [
    "list_of_paths[0]"
   ]
  },
  {
   "cell_type": "code",
   "execution_count": 37,
   "id": "lesbian-laser",
   "metadata": {
    "ExecuteTime": {
     "end_time": "2021-05-04T08:54:07.977360Z",
     "start_time": "2021-05-04T08:54:07.969336Z"
    }
   },
   "outputs": [],
   "source": [
    "def data_frame_gen(list_of_paths):\n",
    "    all_files = []\n",
    "    for path in list_of_paths:\n",
    "        \n",
    "        for dirpath, _, filenames in os.walk(path):\n",
    "            for fn in filenames:\n",
    "                all_files.append(os.path.join(dirpath, fn))\n",
    "    \n",
    "    img_df = pd.DataFrame({'Path': all_files})\n",
    "    \n",
    "    img_df['Fruit'] = img_df['Path'].apply(lambda p: p.split(os.sep)[1])\n",
    "    img_df = img_df[['Fruit', 'Path']]            \n",
    "    \n",
    "    return img_df\n"
   ]
  },
  {
   "cell_type": "code",
   "execution_count": 38,
   "id": "overall-polymer",
   "metadata": {
    "ExecuteTime": {
     "end_time": "2021-05-04T08:54:09.155911Z",
     "start_time": "2021-05-04T08:54:08.622202Z"
    }
   },
   "outputs": [],
   "source": [
    "df = data_frame_gen(list_of_paths)"
   ]
  },
  {
   "cell_type": "code",
   "execution_count": 39,
   "id": "transsexual-zambia",
   "metadata": {
    "ExecuteTime": {
     "end_time": "2021-05-04T08:54:09.824526Z",
     "start_time": "2021-05-04T08:54:09.801021Z"
    }
   },
   "outputs": [
    {
     "data": {
      "text/html": [
       "<div>\n",
       "<style scoped>\n",
       "    .dataframe tbody tr th:only-of-type {\n",
       "        vertical-align: middle;\n",
       "    }\n",
       "\n",
       "    .dataframe tbody tr th {\n",
       "        vertical-align: top;\n",
       "    }\n",
       "\n",
       "    .dataframe thead th {\n",
       "        text-align: right;\n",
       "    }\n",
       "</style>\n",
       "<table border=\"1\" class=\"dataframe\">\n",
       "  <thead>\n",
       "    <tr style=\"text-align: right;\">\n",
       "      <th></th>\n",
       "      <th>Path</th>\n",
       "    </tr>\n",
       "    <tr>\n",
       "      <th>Fruit</th>\n",
       "      <th></th>\n",
       "    </tr>\n",
       "  </thead>\n",
       "  <tbody>\n",
       "    <tr>\n",
       "      <th>Apple</th>\n",
       "      <td>11186</td>\n",
       "    </tr>\n",
       "    <tr>\n",
       "      <th>Banana</th>\n",
       "      <td>3027</td>\n",
       "    </tr>\n",
       "    <tr>\n",
       "      <th>Carambola</th>\n",
       "      <td>2080</td>\n",
       "    </tr>\n",
       "    <tr>\n",
       "      <th>Guava</th>\n",
       "      <td>19699</td>\n",
       "    </tr>\n",
       "    <tr>\n",
       "      <th>Kiwi</th>\n",
       "      <td>8466</td>\n",
       "    </tr>\n",
       "    <tr>\n",
       "      <th>Mango</th>\n",
       "      <td>4154</td>\n",
       "    </tr>\n",
       "    <tr>\n",
       "      <th>Orange</th>\n",
       "      <td>3012</td>\n",
       "    </tr>\n",
       "    <tr>\n",
       "      <th>Peach</th>\n",
       "      <td>2629</td>\n",
       "    </tr>\n",
       "    <tr>\n",
       "      <th>Pear</th>\n",
       "      <td>3012</td>\n",
       "    </tr>\n",
       "    <tr>\n",
       "      <th>Persimmon</th>\n",
       "      <td>2072</td>\n",
       "    </tr>\n",
       "    <tr>\n",
       "      <th>Pitaya</th>\n",
       "      <td>2501</td>\n",
       "    </tr>\n",
       "    <tr>\n",
       "      <th>Plum</th>\n",
       "      <td>2298</td>\n",
       "    </tr>\n",
       "    <tr>\n",
       "      <th>Pomegranate</th>\n",
       "      <td>2167</td>\n",
       "    </tr>\n",
       "    <tr>\n",
       "      <th>Tomatoes</th>\n",
       "      <td>2171</td>\n",
       "    </tr>\n",
       "    <tr>\n",
       "      <th>muskmelon</th>\n",
       "      <td>2078</td>\n",
       "    </tr>\n",
       "  </tbody>\n",
       "</table>\n",
       "</div>"
      ],
      "text/plain": [
       "              Path\n",
       "Fruit             \n",
       "Apple        11186\n",
       "Banana        3027\n",
       "Carambola     2080\n",
       "Guava        19699\n",
       "Kiwi          8466\n",
       "Mango         4154\n",
       "Orange        3012\n",
       "Peach         2629\n",
       "Pear          3012\n",
       "Persimmon     2072\n",
       "Pitaya        2501\n",
       "Plum          2298\n",
       "Pomegranate   2167\n",
       "Tomatoes      2171\n",
       "muskmelon     2078"
      ]
     },
     "execution_count": 39,
     "metadata": {},
     "output_type": "execute_result"
    }
   ],
   "source": [
    "df.groupby('Fruit').count()\n"
   ]
  },
  {
   "cell_type": "code",
   "execution_count": 85,
   "id": "major-cameroon",
   "metadata": {
    "ExecuteTime": {
     "end_time": "2021-05-04T10:10:40.639806Z",
     "start_time": "2021-05-04T10:10:40.437962Z"
    }
   },
   "outputs": [
    {
     "name": "stdout",
     "output_type": "stream",
     "text": [
      "[[[ 33  39  39]\n",
      "  [ 35  41  41]\n",
      "  [ 37  42  42]\n",
      "  ...\n",
      "  [ 41  48  41]\n",
      "  [ 86  94  87]\n",
      "  [104 112 105]]\n",
      "\n",
      " [[ 40  46  44]\n",
      "  [ 42  48  46]\n",
      "  [ 38  45  45]\n",
      "  ...\n",
      "  [ 42  49  42]\n",
      "  [ 73  81  74]\n",
      "  [100 108 101]]\n",
      "\n",
      " [[ 39  40  38]\n",
      "  [ 44  45  42]\n",
      "  [ 32  41  45]\n",
      "  ...\n",
      "  [ 48  55  48]\n",
      "  [ 54  62  55]\n",
      "  [ 96 104  97]]\n",
      "\n",
      " ...\n",
      "\n",
      " [[ 10  16  18]\n",
      "  [ 10  16  18]\n",
      "  [ 12  18  20]\n",
      "  ...\n",
      "  [  5   6   2]\n",
      "  [  9  10   8]\n",
      "  [ 24  25  23]]\n",
      "\n",
      " [[  3   9  13]\n",
      "  [  3   9  13]\n",
      "  [  3   9  13]\n",
      "  ...\n",
      "  [  4   5   1]\n",
      "  [  9  10   8]\n",
      "  [ 24  25  23]]\n",
      "\n",
      " [[  6  12  17]\n",
      "  [  6  12  17]\n",
      "  [  5  11  16]\n",
      "  ...\n",
      "  [  3   4   0]\n",
      "  [ 10  11   9]\n",
      "  [ 28  30  27]]]\n"
     ]
    },
    {
     "data": {
      "image/png": "[encoded data removed]",
      "text/plain": [
       "<Figure size 432x288 with 1 Axes>"
      ]
     },
     "metadata": {
      "needs_background": "light"
     },
     "output_type": "display_data"
    }
   ],
   "source": [
    "img = cv2.imread(df['Path'][1], cv2.COLOR_BGR2RGB)\n",
    "img_GRB = cv2.cvtColor(img, cv2.COLOR_BGR2RGB)\n",
    "plt.imshow(img_GRB)\n",
    "print(img_GRB)\n",
    "plt.show()"
   ]
  },
  {
   "cell_type": "code",
   "execution_count": 49,
   "id": "soviet-mirror",
   "metadata": {
    "ExecuteTime": {
     "end_time": "2021-05-04T09:05:41.105153Z",
     "start_time": "2021-05-04T09:05:41.100504Z"
    }
   },
   "outputs": [
    {
     "data": {
      "text/plain": [
       "(70552, 2)"
      ]
     },
     "execution_count": 49,
     "metadata": {},
     "output_type": "execute_result"
    }
   ],
   "source": [
    "df.shape"
   ]
  },
  {
   "cell_type": "code",
   "execution_count": 54,
   "id": "hungarian-tamil",
   "metadata": {
    "ExecuteTime": {
     "end_time": "2021-05-04T09:06:42.500194Z",
     "start_time": "2021-05-04T09:06:42.491882Z"
    }
   },
   "outputs": [
    {
     "data": {
      "text/html": [
       "<div>\n",
       "<style scoped>\n",
       "    .dataframe tbody tr th:only-of-type {\n",
       "        vertical-align: middle;\n",
       "    }\n",
       "\n",
       "    .dataframe tbody tr th {\n",
       "        vertical-align: top;\n",
       "    }\n",
       "\n",
       "    .dataframe thead th {\n",
       "        text-align: right;\n",
       "    }\n",
       "</style>\n",
       "<table border=\"1\" class=\"dataframe\">\n",
       "  <thead>\n",
       "    <tr style=\"text-align: right;\">\n",
       "      <th></th>\n",
       "      <th>Fruit</th>\n",
       "      <th>Path</th>\n",
       "    </tr>\n",
       "  </thead>\n",
       "  <tbody>\n",
       "    <tr>\n",
       "      <th>0</th>\n",
       "      <td>Apple</td>\n",
       "      <td>Data/Apple/.DS_Store</td>\n",
       "    </tr>\n",
       "    <tr>\n",
       "      <th>1</th>\n",
       "      <td>Apple</td>\n",
       "      <td>Data/Apple/Apple E/Apple E08152.png</td>\n",
       "    </tr>\n",
       "    <tr>\n",
       "      <th>2</th>\n",
       "      <td>Apple</td>\n",
       "      <td>Data/Apple/Apple E/Apple E117.png</td>\n",
       "    </tr>\n",
       "    <tr>\n",
       "      <th>3</th>\n",
       "      <td>Apple</td>\n",
       "      <td>Data/Apple/Apple E/Apple E103.png</td>\n",
       "    </tr>\n",
       "    <tr>\n",
       "      <th>4</th>\n",
       "      <td>Apple</td>\n",
       "      <td>Data/Apple/Apple E/Apple Ee01601.png</td>\n",
       "    </tr>\n",
       "    <tr>\n",
       "      <th>...</th>\n",
       "      <td>...</td>\n",
       "      <td>...</td>\n",
       "    </tr>\n",
       "    <tr>\n",
       "      <th>70547</th>\n",
       "      <td>Tomatoes</td>\n",
       "      <td>Data/Tomatoes/Tamotoes00485.png</td>\n",
       "    </tr>\n",
       "    <tr>\n",
       "      <th>70548</th>\n",
       "      <td>Tomatoes</td>\n",
       "      <td>Data/Tomatoes/Tamotoes001605.png</td>\n",
       "    </tr>\n",
       "    <tr>\n",
       "      <th>70549</th>\n",
       "      <td>Tomatoes</td>\n",
       "      <td>Data/Tomatoes/Tamotoes001611.png</td>\n",
       "    </tr>\n",
       "    <tr>\n",
       "      <th>70550</th>\n",
       "      <td>Tomatoes</td>\n",
       "      <td>Data/Tomatoes/Tamotoes001177.png</td>\n",
       "    </tr>\n",
       "    <tr>\n",
       "      <th>70551</th>\n",
       "      <td>Tomatoes</td>\n",
       "      <td>Data/Tomatoes/Tamotoes00491.png</td>\n",
       "    </tr>\n",
       "  </tbody>\n",
       "</table>\n",
       "<p>70552 rows × 2 columns</p>\n",
       "</div>"
      ],
      "text/plain": [
       "          Fruit                                  Path\n",
       "0         Apple                  Data/Apple/.DS_Store\n",
       "1         Apple   Data/Apple/Apple E/Apple E08152.png\n",
       "2         Apple     Data/Apple/Apple E/Apple E117.png\n",
       "3         Apple     Data/Apple/Apple E/Apple E103.png\n",
       "4         Apple  Data/Apple/Apple E/Apple Ee01601.png\n",
       "...         ...                                   ...\n",
       "70547  Tomatoes       Data/Tomatoes/Tamotoes00485.png\n",
       "70548  Tomatoes      Data/Tomatoes/Tamotoes001605.png\n",
       "70549  Tomatoes      Data/Tomatoes/Tamotoes001611.png\n",
       "70550  Tomatoes      Data/Tomatoes/Tamotoes001177.png\n",
       "70551  Tomatoes       Data/Tomatoes/Tamotoes00491.png\n",
       "\n",
       "[70552 rows x 2 columns]"
      ]
     },
     "execution_count": 54,
     "metadata": {},
     "output_type": "execute_result"
    }
   ],
   "source": [
    "df"
   ]
  },
  {
   "cell_type": "code",
   "execution_count": 78,
   "id": "excessive-dover",
   "metadata": {
    "ExecuteTime": {
     "end_time": "2021-05-04T09:17:30.519959Z",
     "start_time": "2021-05-04T09:17:30.473547Z"
    }
   },
   "outputs": [],
   "source": [
    "## Removing DS_store\n",
    "\n",
    "for path in df.Path:\n",
    "    count_to_drop = 0 \n",
    "    if 'DS_Store'in str(path):\n",
    "        df = df.drop(df.index[count_to_drop])\n",
    "    count_to_drop = count_to_drop + 1\n",
    "        "
   ]
  },
  {
   "cell_type": "code",
   "execution_count": 80,
   "id": "neutral-jason",
   "metadata": {
    "ExecuteTime": {
     "end_time": "2021-05-04T09:17:43.802518Z",
     "start_time": "2021-05-04T09:17:43.792060Z"
    }
   },
   "outputs": [
    {
     "data": {
      "text/html": [
       "<div>\n",
       "<style scoped>\n",
       "    .dataframe tbody tr th:only-of-type {\n",
       "        vertical-align: middle;\n",
       "    }\n",
       "\n",
       "    .dataframe tbody tr th {\n",
       "        vertical-align: top;\n",
       "    }\n",
       "\n",
       "    .dataframe thead th {\n",
       "        text-align: right;\n",
       "    }\n",
       "</style>\n",
       "<table border=\"1\" class=\"dataframe\">\n",
       "  <thead>\n",
       "    <tr style=\"text-align: right;\">\n",
       "      <th></th>\n",
       "      <th>Fruit</th>\n",
       "      <th>Path</th>\n",
       "    </tr>\n",
       "  </thead>\n",
       "  <tbody>\n",
       "    <tr>\n",
       "      <th>3</th>\n",
       "      <td>Apple</td>\n",
       "      <td>Data/Apple/Apple E/Apple E103.png</td>\n",
       "    </tr>\n",
       "    <tr>\n",
       "      <th>4</th>\n",
       "      <td>Apple</td>\n",
       "      <td>Data/Apple/Apple E/Apple Ee01601.png</td>\n",
       "    </tr>\n",
       "    <tr>\n",
       "      <th>5</th>\n",
       "      <td>Apple</td>\n",
       "      <td>Data/Apple/Apple E/Apple E05112.png</td>\n",
       "    </tr>\n",
       "    <tr>\n",
       "      <th>6</th>\n",
       "      <td>Apple</td>\n",
       "      <td>Data/Apple/Apple E/Apple E301.png</td>\n",
       "    </tr>\n",
       "    <tr>\n",
       "      <th>7</th>\n",
       "      <td>Apple</td>\n",
       "      <td>Data/Apple/Apple E/Apple E05106.png</td>\n",
       "    </tr>\n",
       "    <tr>\n",
       "      <th>...</th>\n",
       "      <td>...</td>\n",
       "      <td>...</td>\n",
       "    </tr>\n",
       "    <tr>\n",
       "      <th>70547</th>\n",
       "      <td>Tomatoes</td>\n",
       "      <td>Data/Tomatoes/Tamotoes00485.png</td>\n",
       "    </tr>\n",
       "    <tr>\n",
       "      <th>70548</th>\n",
       "      <td>Tomatoes</td>\n",
       "      <td>Data/Tomatoes/Tamotoes001605.png</td>\n",
       "    </tr>\n",
       "    <tr>\n",
       "      <th>70549</th>\n",
       "      <td>Tomatoes</td>\n",
       "      <td>Data/Tomatoes/Tamotoes001611.png</td>\n",
       "    </tr>\n",
       "    <tr>\n",
       "      <th>70550</th>\n",
       "      <td>Tomatoes</td>\n",
       "      <td>Data/Tomatoes/Tamotoes001177.png</td>\n",
       "    </tr>\n",
       "    <tr>\n",
       "      <th>70551</th>\n",
       "      <td>Tomatoes</td>\n",
       "      <td>Data/Tomatoes/Tamotoes00491.png</td>\n",
       "    </tr>\n",
       "  </tbody>\n",
       "</table>\n",
       "<p>70549 rows × 2 columns</p>\n",
       "</div>"
      ],
      "text/plain": [
       "          Fruit                                  Path\n",
       "3         Apple     Data/Apple/Apple E/Apple E103.png\n",
       "4         Apple  Data/Apple/Apple E/Apple Ee01601.png\n",
       "5         Apple   Data/Apple/Apple E/Apple E05112.png\n",
       "6         Apple     Data/Apple/Apple E/Apple E301.png\n",
       "7         Apple   Data/Apple/Apple E/Apple E05106.png\n",
       "...         ...                                   ...\n",
       "70547  Tomatoes       Data/Tomatoes/Tamotoes00485.png\n",
       "70548  Tomatoes      Data/Tomatoes/Tamotoes001605.png\n",
       "70549  Tomatoes      Data/Tomatoes/Tamotoes001611.png\n",
       "70550  Tomatoes      Data/Tomatoes/Tamotoes001177.png\n",
       "70551  Tomatoes       Data/Tomatoes/Tamotoes00491.png\n",
       "\n",
       "[70549 rows x 2 columns]"
      ]
     },
     "execution_count": 80,
     "metadata": {},
     "output_type": "execute_result"
    }
   ],
   "source": [
    "df"
   ]
  },
  {
   "cell_type": "markdown",
   "id": "opponent-government",
   "metadata": {
    "ExecuteTime": {
     "end_time": "2021-05-04T09:17:04.207954Z",
     "start_time": "2021-05-04T09:17:04.184452Z"
    }
   },
   "source": [
    "## Preping the data "
   ]
  },
  {
   "cell_type": "code",
   "execution_count": 81,
   "id": "horizontal-intranet",
   "metadata": {
    "ExecuteTime": {
     "end_time": "2021-05-04T09:22:38.676716Z",
     "start_time": "2021-05-04T09:22:30.802305Z"
    }
   },
   "outputs": [
    {
     "data": {
      "text/html": [
       "<div>\n",
       "<style scoped>\n",
       "    .dataframe tbody tr th:only-of-type {\n",
       "        vertical-align: middle;\n",
       "    }\n",
       "\n",
       "    .dataframe tbody tr th {\n",
       "        vertical-align: top;\n",
       "    }\n",
       "\n",
       "    .dataframe thead th {\n",
       "        text-align: right;\n",
       "    }\n",
       "</style>\n",
       "<table border=\"1\" class=\"dataframe\">\n",
       "  <thead>\n",
       "    <tr style=\"text-align: right;\">\n",
       "      <th></th>\n",
       "      <th>Fruit</th>\n",
       "      <th>Path</th>\n",
       "    </tr>\n",
       "  </thead>\n",
       "  <tbody>\n",
       "    <tr>\n",
       "      <th>0</th>\n",
       "      <td>Apple</td>\n",
       "      <td>Data/Apple/Apple F/Apple F179.png</td>\n",
       "    </tr>\n",
       "    <tr>\n",
       "      <th>1</th>\n",
       "      <td>Apple</td>\n",
       "      <td>Data/Apple/Apple D/Apple De03721.png</td>\n",
       "    </tr>\n",
       "    <tr>\n",
       "      <th>2</th>\n",
       "      <td>Kiwi</td>\n",
       "      <td>Data/Kiwi/Kiwi C/Kiwi C00674.png</td>\n",
       "    </tr>\n",
       "    <tr>\n",
       "      <th>3</th>\n",
       "      <td>Pomegranate</td>\n",
       "      <td>Data/Pomegranate/Pomegranet003.png</td>\n",
       "    </tr>\n",
       "    <tr>\n",
       "      <th>4</th>\n",
       "      <td>Guava</td>\n",
       "      <td>Data/Guava/Guava total/1Guava。2975 resized.png</td>\n",
       "    </tr>\n",
       "    <tr>\n",
       "      <th>...</th>\n",
       "      <td>...</td>\n",
       "      <td>...</td>\n",
       "    </tr>\n",
       "    <tr>\n",
       "      <th>70544</th>\n",
       "      <td>Guava</td>\n",
       "      <td>Data/Guava/guava B/Guava666.png</td>\n",
       "    </tr>\n",
       "    <tr>\n",
       "      <th>70545</th>\n",
       "      <td>Mango</td>\n",
       "      <td>Data/Mango/Mango003723.png</td>\n",
       "    </tr>\n",
       "    <tr>\n",
       "      <th>70546</th>\n",
       "      <td>Kiwi</td>\n",
       "      <td>Data/Kiwi/Kiwi C/Kiwi C00143.png</td>\n",
       "    </tr>\n",
       "    <tr>\n",
       "      <th>70547</th>\n",
       "      <td>Kiwi</td>\n",
       "      <td>Data/Kiwi/Kiwi B/Kiwi B00196.png</td>\n",
       "    </tr>\n",
       "    <tr>\n",
       "      <th>70548</th>\n",
       "      <td>Pomegranate</td>\n",
       "      <td>Data/Pomegranate/Pomegranet00225.png</td>\n",
       "    </tr>\n",
       "  </tbody>\n",
       "</table>\n",
       "<p>70549 rows × 2 columns</p>\n",
       "</div>"
      ],
      "text/plain": [
       "             Fruit                                            Path\n",
       "0            Apple               Data/Apple/Apple F/Apple F179.png\n",
       "1            Apple            Data/Apple/Apple D/Apple De03721.png\n",
       "2             Kiwi                Data/Kiwi/Kiwi C/Kiwi C00674.png\n",
       "3      Pomegranate              Data/Pomegranate/Pomegranet003.png\n",
       "4            Guava  Data/Guava/Guava total/1Guava。2975 resized.png\n",
       "...            ...                                             ...\n",
       "70544        Guava                 Data/Guava/guava B/Guava666.png\n",
       "70545        Mango                      Data/Mango/Mango003723.png\n",
       "70546         Kiwi                Data/Kiwi/Kiwi C/Kiwi C00143.png\n",
       "70547         Kiwi                Data/Kiwi/Kiwi B/Kiwi B00196.png\n",
       "70548  Pomegranate            Data/Pomegranate/Pomegranet00225.png\n",
       "\n",
       "[70549 rows x 2 columns]"
      ]
     },
     "execution_count": 81,
     "metadata": {},
     "output_type": "execute_result"
    }
   ],
   "source": [
    "# Shuffling data\n",
    "\n",
    "from sklearn.utils import shuffle\n",
    "\n",
    "df = shuffle(df, random_state = 0)\n",
    "\n",
    "df = df.reset_index(drop=True)\n",
    "\n",
    "df"
   ]
  },
  {
   "cell_type": "code",
   "execution_count": 83,
   "id": "processed-shaft",
   "metadata": {
    "ExecuteTime": {
     "end_time": "2021-05-04T09:56:37.406243Z",
     "start_time": "2021-05-04T09:56:37.336992Z"
    }
   },
   "outputs": [
    {
     "name": "stdout",
     "output_type": "stream",
     "text": [
      "{'Apple': 0, 'Banana': 1, 'Carambola': 2, 'Guava': 3, 'Kiwi': 4, 'Mango': 5, 'Orange': 6, 'Peach': 7, 'Pear': 8, 'Persimmon': 9, 'Pitaya': 10, 'Plum': 11, 'Pomegranate': 12, 'Tomatoes': 13, 'muskmelon': 14}\n"
     ]
    },
    {
     "data": {
      "text/html": [
       "<div>\n",
       "<style scoped>\n",
       "    .dataframe tbody tr th:only-of-type {\n",
       "        vertical-align: middle;\n",
       "    }\n",
       "\n",
       "    .dataframe tbody tr th {\n",
       "        vertical-align: top;\n",
       "    }\n",
       "\n",
       "    .dataframe thead th {\n",
       "        text-align: right;\n",
       "    }\n",
       "</style>\n",
       "<table border=\"1\" class=\"dataframe\">\n",
       "  <thead>\n",
       "    <tr style=\"text-align: right;\">\n",
       "      <th></th>\n",
       "      <th>Fruit</th>\n",
       "      <th>Path</th>\n",
       "      <th>label</th>\n",
       "    </tr>\n",
       "  </thead>\n",
       "  <tbody>\n",
       "    <tr>\n",
       "      <th>0</th>\n",
       "      <td>Apple</td>\n",
       "      <td>Data/Apple/Apple F/Apple F179.png</td>\n",
       "      <td>0</td>\n",
       "    </tr>\n",
       "    <tr>\n",
       "      <th>1</th>\n",
       "      <td>Apple</td>\n",
       "      <td>Data/Apple/Apple D/Apple De03721.png</td>\n",
       "      <td>0</td>\n",
       "    </tr>\n",
       "    <tr>\n",
       "      <th>2</th>\n",
       "      <td>Kiwi</td>\n",
       "      <td>Data/Kiwi/Kiwi C/Kiwi C00674.png</td>\n",
       "      <td>4</td>\n",
       "    </tr>\n",
       "    <tr>\n",
       "      <th>3</th>\n",
       "      <td>Pomegranate</td>\n",
       "      <td>Data/Pomegranate/Pomegranet003.png</td>\n",
       "      <td>12</td>\n",
       "    </tr>\n",
       "    <tr>\n",
       "      <th>4</th>\n",
       "      <td>Guava</td>\n",
       "      <td>Data/Guava/Guava total/1Guava。2975 resized.png</td>\n",
       "      <td>3</td>\n",
       "    </tr>\n",
       "  </tbody>\n",
       "</table>\n",
       "</div>"
      ],
      "text/plain": [
       "         Fruit                                            Path  label\n",
       "0        Apple               Data/Apple/Apple F/Apple F179.png      0\n",
       "1        Apple            Data/Apple/Apple D/Apple De03721.png      0\n",
       "2         Kiwi                Data/Kiwi/Kiwi C/Kiwi C00674.png      4\n",
       "3  Pomegranate              Data/Pomegranate/Pomegranet003.png     12\n",
       "4        Guava  Data/Guava/Guava total/1Guava。2975 resized.png      3"
      ]
     },
     "execution_count": 83,
     "metadata": {},
     "output_type": "execute_result"
    }
   ],
   "source": [
    "# adding a label to the data \n",
    "\n",
    "fruit_names = sorted(df.Fruit.unique())\n",
    "mapper_fruit_names = dict(zip(fruit_names, [t for t in range(len(fruit_names))]))\n",
    "df[\"label\"] = df[\"Fruit\"].map(mapper_fruit_names)\n",
    "print(mapper_fruit_names)\n",
    "\n",
    "# Visualize the resulting dataframe\n",
    "df.head()"
   ]
  },
  {
   "cell_type": "markdown",
   "id": "suspended-referral",
   "metadata": {},
   "source": [
    "# Preping to model"
   ]
  },
  {
   "cell_type": "code",
   "execution_count": 86,
   "id": "skilled-arcade",
   "metadata": {
    "ExecuteTime": {
     "end_time": "2021-05-04T10:15:44.322202Z",
     "start_time": "2021-05-04T10:15:44.318819Z"
    }
   },
   "outputs": [],
   "source": [
    "# Reshaping the image"
   ]
  },
  {
   "cell_type": "code",
   "execution_count": null,
   "id": "healthy-realtor",
   "metadata": {
    "ExecuteTime": {
     "start_time": "2021-05-04T10:19:27.458Z"
    }
   },
   "outputs": [],
   "source": [
    "def load_img(df):\n",
    "# Load the images using their contained in the dataframe df\n",
    "# Return a list of images and a list with the labels of the images\n",
    "    img_paths = df[\"Path\"].values\n",
    "    img_labels = df[\"Fruit\"].values\n",
    "    X = []\n",
    "    y = []\n",
    "    \n",
    "    for i,path in enumerate(img_paths):\n",
    "        img =  cv2.imread(path)\n",
    "        img = cv2.resize(img, (150,150))\n",
    "        label = img_labels[i]\n",
    "        X.append(img)\n",
    "        y.append(label)\n",
    "    return np.array(X),np.array(y)\n",
    "\n",
    "X, y = load_img(df)\n",
    "\n",
    "X"
   ]
  },
  {
   "cell_type": "code",
   "execution_count": null,
   "id": "portuguese-necklace",
   "metadata": {},
   "outputs": [],
   "source": []
  }
 ],
 "metadata": {
  "kernelspec": {
   "display_name": "tensor",
   "language": "python",
   "name": "tensor"
  },
  "language_info": {
   "codemirror_mode": {
    "name": "ipython",
    "version": 3
   },
   "file_extension": ".py",
   "mimetype": "text/x-python",
   "name": "python",
   "nbconvert_exporter": "python",
   "pygments_lexer": "ipython3",
   "version": "3.8.2"
  },
  "toc": {
   "base_numbering": 1,
   "nav_menu": {},
   "number_sections": true,
   "sideBar": true,
   "skip_h1_title": false,
   "title_cell": "Table of Contents",
   "title_sidebar": "Contents",
   "toc_cell": false,
   "toc_position": {},
   "toc_section_display": true,
   "toc_window_display": false
  }
 },
 "nbformat": 4,
 "nbformat_minor": 5
}
