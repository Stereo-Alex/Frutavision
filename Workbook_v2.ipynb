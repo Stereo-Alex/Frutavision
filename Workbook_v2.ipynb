{
  "nbformat": 4,
  "nbformat_minor": 5,
  "metadata": {
    "kernelspec": {
      "name": "python3",
      "display_name": "Python 3"
    },
    "toc": {
      "base_numbering": 1,
      "nav_menu": {},
      "number_sections": true,
      "sideBar": true,
      "skip_h1_title": false,
      "title_cell": "Table of Contents",
      "title_sidebar": "Contents",
      "toc_cell": false,
      "toc_position": {},
      "toc_section_display": true,
      "toc_window_display": false
    },
    "colab": {
      "name": "Copy of Workbook.ipynb",
      "provenance": [],
      "toc_visible": true,
      "include_colab_link": true
    },
    "accelerator": "GPU",
    "language_info": {
      "name": "python"
    }
  },
  "cells": [
    {
      "cell_type": "markdown",
      "metadata": {
        "id": "view-in-github",
        "colab_type": "text"
      },
      "source": [
        "<a href=\"https://colab.research.google.com/github/Stereo-Alex/Frutavision/blob/main/Workbook_v2.ipynb\" target=\"_parent\"><img src=\"https://colab.research.google.com/assets/colab-badge.svg\" alt=\"Open In Colab\"/></a>"
      ]
    },
    {
      "cell_type": "code",
      "metadata": {
        "id": "OzVOMlCj0pRL",
        "colab": {
          "resources": {
            "http://localhost:8080/nbextensions/google.colab/files.js": {
              "data": "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",
              "ok": true,
              "headers": [
                [
                  "content-type",
                  "application/javascript"
                ]
              ],
              "status": 200,
              "status_text": ""
            }
          },
          "base_uri": "https://localhost:8080/",
          "height": 279
        },
        "outputId": "3dbaf46b-2354-4ea8-fe25-4abf48f7107b"
      },
      "source": [
        "!pip install kaggle\n",
        "from google.colab import files\n",
        "files.upload()\n",
        "!mkdir -p ~/.kaggle\n",
        "!cp kaggle.json ~/.kaggle/\n",
        "!chmod 600 ~/.kaggle/kaggle.json"
      ],
      "id": "OzVOMlCj0pRL",
      "execution_count": 1,
      "outputs": [
        {
          "output_type": "stream",
          "text": [
            "Requirement already satisfied: kaggle in /usr/local/lib/python3.7/dist-packages (1.5.12)\n",
            "Requirement already satisfied: python-slugify in /usr/local/lib/python3.7/dist-packages (from kaggle) (4.0.1)\n",
            "Requirement already satisfied: requests in /usr/local/lib/python3.7/dist-packages (from kaggle) (2.23.0)\n",
            "Requirement already satisfied: tqdm in /usr/local/lib/python3.7/dist-packages (from kaggle) (4.41.1)\n",
            "Requirement already satisfied: six>=1.10 in /usr/local/lib/python3.7/dist-packages (from kaggle) (1.15.0)\n",
            "Requirement already satisfied: urllib3 in /usr/local/lib/python3.7/dist-packages (from kaggle) (1.24.3)\n",
            "Requirement already satisfied: certifi in /usr/local/lib/python3.7/dist-packages (from kaggle) (2020.12.5)\n",
            "Requirement already satisfied: python-dateutil in /usr/local/lib/python3.7/dist-packages (from kaggle) (2.8.1)\n",
            "Requirement already satisfied: text-unidecode>=1.3 in /usr/local/lib/python3.7/dist-packages (from python-slugify->kaggle) (1.3)\n",
            "Requirement already satisfied: idna<3,>=2.5 in /usr/local/lib/python3.7/dist-packages (from requests->kaggle) (2.10)\n",
            "Requirement already satisfied: chardet<4,>=3.0.2 in /usr/local/lib/python3.7/dist-packages (from requests->kaggle) (3.0.4)\n"
          ],
          "name": "stdout"
        },
        {
          "output_type": "display_data",
          "data": {
            "text/html": [
              "\n",
              "     <input type=\"file\" id=\"files-a091bf5e-fea1-408e-9d98-2eeff4fd990c\" name=\"files[]\" multiple disabled\n",
              "        style=\"border:none\" />\n",
              "     <output id=\"result-a091bf5e-fea1-408e-9d98-2eeff4fd990c\">\n",
              "      Upload widget is only available when the cell has been executed in the\n",
              "      current browser session. Please rerun this cell to enable.\n",
              "      </output>\n",
              "      <script src=\"/nbextensions/google.colab/files.js\"></script> "
            ],
            "text/plain": [
              "<IPython.core.display.HTML object>"
            ]
          },
          "metadata": {
            "tags": []
          }
        },
        {
          "output_type": "stream",
          "text": [
            "Saving kaggle.json to kaggle.json\n"
          ],
          "name": "stdout"
        }
      ]
    },
    {
      "cell_type": "code",
      "metadata": {
        "id": "a1SqXs0i3fJ4",
        "colab": {
          "base_uri": "https://localhost:8080/"
        },
        "outputId": "0e4dad62-49a1-4eae-94a1-3781046855a0"
      },
      "source": [
        "!kaggle datasets download -d chrisfilo/fruit-recognition"
      ],
      "id": "a1SqXs0i3fJ4",
      "execution_count": 2,
      "outputs": [
        {
          "output_type": "stream",
          "text": [
            "Downloading fruit-recognition.zip to /content\n",
            "100% 7.92G/7.92G [03:03<00:00, 73.2MB/s]\n",
            "100% 7.92G/7.92G [03:03<00:00, 46.4MB/s]\n"
          ],
          "name": "stdout"
        }
      ]
    },
    {
      "cell_type": "code",
      "metadata": {
        "id": "acMgGzs5hbFf"
      },
      "source": [
        "!unzip fruit-recognition.zip"
      ],
      "id": "acMgGzs5hbFf",
      "execution_count": null,
      "outputs": []
    },
    {
      "cell_type": "code",
      "metadata": {
        "id": "2vgqwz5n4v4s",
        "colab": {
          "base_uri": "https://localhost:8080/"
        },
        "outputId": "7f17536f-afe2-432b-cbea-3b29072027a7"
      },
      "source": [
        "#!7z x fruit-recognition.zip\n"
      ],
      "id": "2vgqwz5n4v4s",
      "execution_count": 4,
      "outputs": [
        {
          "output_type": "stream",
          "text": [
            "\n",
            "7-Zip [64] 16.02 : Copyright (c) 1999-2016 Igor Pavlov : 2016-05-21\n",
            "p7zip Version 16.02 (locale=en_US.UTF-8,Utf16=on,HugeFiles=on,64 bits,2 CPUs Intel(R) Xeon(R) CPU @ 2.20GHz (406F0),ASM,AES-NI)\n",
            "\n",
            "Scanning the drive for archives:\n",
            "  0M Scan\b\b\b\b\b\b\b\b\b         \b\b\b\b\b\b\b\b\b1 file, 8501391916 bytes (8108 MiB)\n",
            "\n",
            "Extracting archive: fruit-recognition.zip\n",
            "  5% 4096 Open\b\b\b\b\b\b\b\b\b\b\b\b\b\b              \b\b\b\b\b\b\b\b\b\b\b\b\b\b--\n",
            "Path = fruit-recognition.zip\n",
            "Type = zip\n",
            "Physical Size = 8501391916\n",
            "64-bit = +\n",
            "\n",
            "  0%\b\b\b\b    \b\b\b\b\n",
            "Would you like to replace the existing file:\n",
            "  Path:     ./Apple/Apple A/Apple 1.png\n",
            "  Size:     232182 bytes (227 KiB)\n",
            "  Modified: 2020-02-04 18:56:50\n",
            "with the file from archive:\n",
            "  Path:     Apple/Apple A/Apple 1.png\n",
            "  Size:     232182 bytes (227 KiB)\n",
            "  Modified: 2020-02-04 18:56:50\n",
            "? (Y)es / (N)o / (A)lways / (S)kip all / A(u)to rename all / (Q)uit? Q\n",
            "\n",
            "Archives with Errors: 1\n",
            "\n",
            "\n",
            "\n",
            "Break signaled\n"
          ],
          "name": "stdout"
        }
      ]
    },
    {
      "cell_type": "markdown",
      "metadata": {
        "id": "affiliated-bernard"
      },
      "source": [
        "# Creating a df with the paths"
      ],
      "id": "affiliated-bernard"
    },
    {
      "cell_type": "code",
      "metadata": {
        "ExecuteTime": {
          "end_time": "2021-05-04T08:56:16.843801Z",
          "start_time": "2021-05-04T08:56:16.374254Z"
        },
        "id": "lesser-installation"
      },
      "source": [
        "import pandas as pd\n",
        "import numpy as np\n",
        "import os \n",
        "import cv2\n",
        "import matplotlib.pyplot as plt"
      ],
      "id": "lesser-installation",
      "execution_count": 1,
      "outputs": []
    },
    {
      "cell_type": "code",
      "metadata": {
        "ExecuteTime": {
          "end_time": "2021-05-04T08:54:07.021482Z",
          "start_time": "2021-05-04T08:54:07.015469Z"
        },
        "id": "known-updating"
      },
      "source": [
        "#os.listdir(path)\n",
        "apple_path = '/content/Apple'\n",
        "banana_path = '/content/Banana'\n",
        "carambola_path = '/content/Carambola'\n",
        "guava_path = '/content/Guava'\n",
        "kiwi_path = '/content/Kiwi'\n",
        "mango_path = '/content/Mango'\n",
        "muskmelon_path = '/content/muskmelon'\n",
        "orange_path = '/content/Orange'\n",
        "peach_path =  '/content/Peach'\n",
        "pear_path = '/content/Pear'\n",
        "persimmon_path = '/content/Persimmon'\n",
        "pitaya_path = '/content/Pitaya'\n",
        "plum_path = '/content/Plum'\n",
        "pomegranate_path = '/content/Pomegranate'\n",
        "tomatoes_path = '/content/Tomatoes'\n"
      ],
      "id": "known-updating",
      "execution_count": 2,
      "outputs": []
    },
    {
      "cell_type": "code",
      "metadata": {
        "ExecuteTime": {
          "end_time": "2021-05-04T08:54:07.334559Z",
          "start_time": "2021-05-04T08:54:07.329784Z"
        },
        "id": "judicial-species"
      },
      "source": [
        "list_of_paths = [apple_path, banana_path, carambola_path, guava_path,\n",
        "                kiwi_path, mango_path, muskmelon_path, orange_path,\n",
        "                peach_path, pear_path, persimmon_path, pitaya_path,\n",
        "                plum_path, pomegranate_path, tomatoes_path]"
      ],
      "id": "judicial-species",
      "execution_count": 3,
      "outputs": []
    },
    {
      "cell_type": "code",
      "metadata": {
        "ExecuteTime": {
          "end_time": "2021-05-04T08:54:07.629380Z",
          "start_time": "2021-05-04T08:54:07.622825Z"
        },
        "id": "accomplished-founder",
        "colab": {
          "base_uri": "https://localhost:8080/",
          "height": 35
        },
        "outputId": "2c4ee793-ad64-4345-965c-c88c7b0f02a8"
      },
      "source": [
        "list_of_paths[0]"
      ],
      "id": "accomplished-founder",
      "execution_count": 4,
      "outputs": [
        {
          "output_type": "execute_result",
          "data": {
            "application/vnd.google.colaboratory.intrinsic+json": {
              "type": "string"
            },
            "text/plain": [
              "'/content/Apple'"
            ]
          },
          "metadata": {
            "tags": []
          },
          "execution_count": 4
        }
      ]
    },
    {
      "cell_type": "code",
      "metadata": {
        "ExecuteTime": {
          "end_time": "2021-05-04T08:54:07.977360Z",
          "start_time": "2021-05-04T08:54:07.969336Z"
        },
        "id": "lesbian-laser"
      },
      "source": [
        "def data_frame_gen(list_of_paths):\n",
        "    all_files = []\n",
        "    for path in list_of_paths:\n",
        "        \n",
        "        for dirpath, _, filenames in os.walk(path):\n",
        "            for fn in filenames:\n",
        "                all_files.append(os.path.join(dirpath, fn))\n",
        "    \n",
        "    img_df = pd.DataFrame({'Path': all_files})\n",
        "    \n",
        "    img_df['Fruit'] = img_df['Path'].apply(lambda p: p.split(os.sep)[2])\n",
        "    img_df = img_df[['Fruit', 'Path']]            \n",
        "    \n",
        "    return img_df\n"
      ],
      "id": "lesbian-laser",
      "execution_count": 5,
      "outputs": []
    },
    {
      "cell_type": "code",
      "metadata": {
        "ExecuteTime": {
          "end_time": "2021-05-04T08:54:09.155911Z",
          "start_time": "2021-05-04T08:54:08.622202Z"
        },
        "id": "overall-polymer"
      },
      "source": [
        "df = data_frame_gen(list_of_paths)"
      ],
      "id": "overall-polymer",
      "execution_count": 6,
      "outputs": []
    },
    {
      "cell_type": "code",
      "metadata": {
        "id": "gjyE2IrE6XMs",
        "colab": {
          "base_uri": "https://localhost:8080/",
          "height": 419
        },
        "outputId": "fe477dfa-7b1d-4adb-a089-79e52891c05c"
      },
      "source": [
        "df"
      ],
      "id": "gjyE2IrE6XMs",
      "execution_count": 7,
      "outputs": [
        {
          "output_type": "execute_result",
          "data": {
            "text/html": [
              "<div>\n",
              "<style scoped>\n",
              "    .dataframe tbody tr th:only-of-type {\n",
              "        vertical-align: middle;\n",
              "    }\n",
              "\n",
              "    .dataframe tbody tr th {\n",
              "        vertical-align: top;\n",
              "    }\n",
              "\n",
              "    .dataframe thead th {\n",
              "        text-align: right;\n",
              "    }\n",
              "</style>\n",
              "<table border=\"1\" class=\"dataframe\">\n",
              "  <thead>\n",
              "    <tr style=\"text-align: right;\">\n",
              "      <th></th>\n",
              "      <th>Fruit</th>\n",
              "      <th>Path</th>\n",
              "    </tr>\n",
              "  </thead>\n",
              "  <tbody>\n",
              "    <tr>\n",
              "      <th>0</th>\n",
              "      <td>Apple</td>\n",
              "      <td>/content/Apple/Total Number of Apples/Apple 03...</td>\n",
              "    </tr>\n",
              "    <tr>\n",
              "      <th>1</th>\n",
              "      <td>Apple</td>\n",
              "      <td>/content/Apple/Total Number of Apples/Apple 01...</td>\n",
              "    </tr>\n",
              "    <tr>\n",
              "      <th>2</th>\n",
              "      <td>Apple</td>\n",
              "      <td>/content/Apple/Total Number of Apples/Apple_0_...</td>\n",
              "    </tr>\n",
              "    <tr>\n",
              "      <th>3</th>\n",
              "      <td>Apple</td>\n",
              "      <td>/content/Apple/Total Number of Apples/Apple 01...</td>\n",
              "    </tr>\n",
              "    <tr>\n",
              "      <th>4</th>\n",
              "      <td>Apple</td>\n",
              "      <td>/content/Apple/Total Number of Apples/Apple 01...</td>\n",
              "    </tr>\n",
              "    <tr>\n",
              "      <th>...</th>\n",
              "      <td>...</td>\n",
              "      <td>...</td>\n",
              "    </tr>\n",
              "    <tr>\n",
              "      <th>70544</th>\n",
              "      <td>Tomatoes</td>\n",
              "      <td>/content/Tomatoes/Tamotoes001882.png</td>\n",
              "    </tr>\n",
              "    <tr>\n",
              "      <th>70545</th>\n",
              "      <td>Tomatoes</td>\n",
              "      <td>/content/Tomatoes/Tamotoes001889.png</td>\n",
              "    </tr>\n",
              "    <tr>\n",
              "      <th>70546</th>\n",
              "      <td>Tomatoes</td>\n",
              "      <td>/content/Tomatoes/Tamotoes001141.png</td>\n",
              "    </tr>\n",
              "    <tr>\n",
              "      <th>70547</th>\n",
              "      <td>Tomatoes</td>\n",
              "      <td>/content/Tomatoes/Tamotoes00775.png</td>\n",
              "    </tr>\n",
              "    <tr>\n",
              "      <th>70548</th>\n",
              "      <td>Tomatoes</td>\n",
              "      <td>/content/Tomatoes/Tamotoes00632.png</td>\n",
              "    </tr>\n",
              "  </tbody>\n",
              "</table>\n",
              "<p>70549 rows × 2 columns</p>\n",
              "</div>"
            ],
            "text/plain": [
              "          Fruit                                               Path\n",
              "0         Apple  /content/Apple/Total Number of Apples/Apple 03...\n",
              "1         Apple  /content/Apple/Total Number of Apples/Apple 01...\n",
              "2         Apple  /content/Apple/Total Number of Apples/Apple_0_...\n",
              "3         Apple  /content/Apple/Total Number of Apples/Apple 01...\n",
              "4         Apple  /content/Apple/Total Number of Apples/Apple 01...\n",
              "...         ...                                                ...\n",
              "70544  Tomatoes               /content/Tomatoes/Tamotoes001882.png\n",
              "70545  Tomatoes               /content/Tomatoes/Tamotoes001889.png\n",
              "70546  Tomatoes               /content/Tomatoes/Tamotoes001141.png\n",
              "70547  Tomatoes                /content/Tomatoes/Tamotoes00775.png\n",
              "70548  Tomatoes                /content/Tomatoes/Tamotoes00632.png\n",
              "\n",
              "[70549 rows x 2 columns]"
            ]
          },
          "metadata": {
            "tags": []
          },
          "execution_count": 7
        }
      ]
    },
    {
      "cell_type": "code",
      "metadata": {
        "ExecuteTime": {
          "end_time": "2021-05-04T08:54:09.824526Z",
          "start_time": "2021-05-04T08:54:09.801021Z"
        },
        "id": "transsexual-zambia",
        "colab": {
          "base_uri": "https://localhost:8080/",
          "height": 545
        },
        "outputId": "c127a619-bc9f-4867-d05c-0fb4b6cf524f"
      },
      "source": [
        "df.groupby('Fruit').count()\n"
      ],
      "id": "transsexual-zambia",
      "execution_count": 8,
      "outputs": [
        {
          "output_type": "execute_result",
          "data": {
            "text/html": [
              "<div>\n",
              "<style scoped>\n",
              "    .dataframe tbody tr th:only-of-type {\n",
              "        vertical-align: middle;\n",
              "    }\n",
              "\n",
              "    .dataframe tbody tr th {\n",
              "        vertical-align: top;\n",
              "    }\n",
              "\n",
              "    .dataframe thead th {\n",
              "        text-align: right;\n",
              "    }\n",
              "</style>\n",
              "<table border=\"1\" class=\"dataframe\">\n",
              "  <thead>\n",
              "    <tr style=\"text-align: right;\">\n",
              "      <th></th>\n",
              "      <th>Path</th>\n",
              "    </tr>\n",
              "    <tr>\n",
              "      <th>Fruit</th>\n",
              "      <th></th>\n",
              "    </tr>\n",
              "  </thead>\n",
              "  <tbody>\n",
              "    <tr>\n",
              "      <th>Apple</th>\n",
              "      <td>11185</td>\n",
              "    </tr>\n",
              "    <tr>\n",
              "      <th>Banana</th>\n",
              "      <td>3027</td>\n",
              "    </tr>\n",
              "    <tr>\n",
              "      <th>Carambola</th>\n",
              "      <td>2080</td>\n",
              "    </tr>\n",
              "    <tr>\n",
              "      <th>Guava</th>\n",
              "      <td>19698</td>\n",
              "    </tr>\n",
              "    <tr>\n",
              "      <th>Kiwi</th>\n",
              "      <td>8465</td>\n",
              "    </tr>\n",
              "    <tr>\n",
              "      <th>Mango</th>\n",
              "      <td>4154</td>\n",
              "    </tr>\n",
              "    <tr>\n",
              "      <th>Orange</th>\n",
              "      <td>3012</td>\n",
              "    </tr>\n",
              "    <tr>\n",
              "      <th>Peach</th>\n",
              "      <td>2629</td>\n",
              "    </tr>\n",
              "    <tr>\n",
              "      <th>Pear</th>\n",
              "      <td>3012</td>\n",
              "    </tr>\n",
              "    <tr>\n",
              "      <th>Persimmon</th>\n",
              "      <td>2072</td>\n",
              "    </tr>\n",
              "    <tr>\n",
              "      <th>Pitaya</th>\n",
              "      <td>2501</td>\n",
              "    </tr>\n",
              "    <tr>\n",
              "      <th>Plum</th>\n",
              "      <td>2298</td>\n",
              "    </tr>\n",
              "    <tr>\n",
              "      <th>Pomegranate</th>\n",
              "      <td>2167</td>\n",
              "    </tr>\n",
              "    <tr>\n",
              "      <th>Tomatoes</th>\n",
              "      <td>2171</td>\n",
              "    </tr>\n",
              "    <tr>\n",
              "      <th>muskmelon</th>\n",
              "      <td>2078</td>\n",
              "    </tr>\n",
              "  </tbody>\n",
              "</table>\n",
              "</div>"
            ],
            "text/plain": [
              "              Path\n",
              "Fruit             \n",
              "Apple        11185\n",
              "Banana        3027\n",
              "Carambola     2080\n",
              "Guava        19698\n",
              "Kiwi          8465\n",
              "Mango         4154\n",
              "Orange        3012\n",
              "Peach         2629\n",
              "Pear          3012\n",
              "Persimmon     2072\n",
              "Pitaya        2501\n",
              "Plum          2298\n",
              "Pomegranate   2167\n",
              "Tomatoes      2171\n",
              "muskmelon     2078"
            ]
          },
          "metadata": {
            "tags": []
          },
          "execution_count": 8
        }
      ]
    },
    {
      "cell_type": "code",
      "metadata": {
        "ExecuteTime": {
          "end_time": "2021-05-04T10:10:40.639806Z",
          "start_time": "2021-05-04T10:10:40.437962Z"
        },
        "id": "major-cameroon",
        "colab": {
          "base_uri": "https://localhost:8080/",
          "height": 269
        },
        "outputId": "df9973f2-eebb-4a18-fc64-ad2fed41f4cc"
      },
      "source": [
        "img = cv2.imread(df['Path'][1], cv2.COLOR_BGR2RGB)\n",
        "img_GRB = cv2.cvtColor(img, cv2.COLOR_BGR2RGB)\n",
        "plt.imshow(img_GRB)\n",
        "#print(img_GRB)\n",
        "plt.show()"
      ],
      "id": "major-cameroon",
      "execution_count": 9,
      "outputs": [
        {
          "output_type": "display_data",
          "data": {
            "image/png": "[encoded data removed]",
            "text/plain": [
              "<Figure size 432x288 with 1 Axes>"
            ]
          },
          "metadata": {
            "tags": [],
            "needs_background": "light"
          }
        }
      ]
    },
    {
      "cell_type": "code",
      "metadata": {
        "ExecuteTime": {
          "end_time": "2021-05-04T09:05:41.105153Z",
          "start_time": "2021-05-04T09:05:41.100504Z"
        },
        "id": "soviet-mirror",
        "colab": {
          "base_uri": "https://localhost:8080/"
        },
        "outputId": "d4c82b08-d05b-49a1-cc2f-886873dcf683"
      },
      "source": [
        "df.shape"
      ],
      "id": "soviet-mirror",
      "execution_count": 10,
      "outputs": [
        {
          "output_type": "execute_result",
          "data": {
            "text/plain": [
              "(70549, 2)"
            ]
          },
          "metadata": {
            "tags": []
          },
          "execution_count": 10
        }
      ]
    },
    {
      "cell_type": "code",
      "metadata": {
        "ExecuteTime": {
          "end_time": "2021-05-04T09:06:42.500194Z",
          "start_time": "2021-05-04T09:06:42.491882Z"
        },
        "id": "hungarian-tamil",
        "colab": {
          "base_uri": "https://localhost:8080/",
          "height": 419
        },
        "outputId": "dcadaf1b-14f8-4f0e-b82a-b52908c21b6a"
      },
      "source": [
        "df"
      ],
      "id": "hungarian-tamil",
      "execution_count": 11,
      "outputs": [
        {
          "output_type": "execute_result",
          "data": {
            "text/html": [
              "<div>\n",
              "<style scoped>\n",
              "    .dataframe tbody tr th:only-of-type {\n",
              "        vertical-align: middle;\n",
              "    }\n",
              "\n",
              "    .dataframe tbody tr th {\n",
              "        vertical-align: top;\n",
              "    }\n",
              "\n",
              "    .dataframe thead th {\n",
              "        text-align: right;\n",
              "    }\n",
              "</style>\n",
              "<table border=\"1\" class=\"dataframe\">\n",
              "  <thead>\n",
              "    <tr style=\"text-align: right;\">\n",
              "      <th></th>\n",
              "      <th>Fruit</th>\n",
              "      <th>Path</th>\n",
              "    </tr>\n",
              "  </thead>\n",
              "  <tbody>\n",
              "    <tr>\n",
              "      <th>0</th>\n",
              "      <td>Apple</td>\n",
              "      <td>/content/Apple/Total Number of Apples/Apple 03...</td>\n",
              "    </tr>\n",
              "    <tr>\n",
              "      <th>1</th>\n",
              "      <td>Apple</td>\n",
              "      <td>/content/Apple/Total Number of Apples/Apple 01...</td>\n",
              "    </tr>\n",
              "    <tr>\n",
              "      <th>2</th>\n",
              "      <td>Apple</td>\n",
              "      <td>/content/Apple/Total Number of Apples/Apple_0_...</td>\n",
              "    </tr>\n",
              "    <tr>\n",
              "      <th>3</th>\n",
              "      <td>Apple</td>\n",
              "      <td>/content/Apple/Total Number of Apples/Apple 01...</td>\n",
              "    </tr>\n",
              "    <tr>\n",
              "      <th>4</th>\n",
              "      <td>Apple</td>\n",
              "      <td>/content/Apple/Total Number of Apples/Apple 01...</td>\n",
              "    </tr>\n",
              "    <tr>\n",
              "      <th>...</th>\n",
              "      <td>...</td>\n",
              "      <td>...</td>\n",
              "    </tr>\n",
              "    <tr>\n",
              "      <th>70544</th>\n",
              "      <td>Tomatoes</td>\n",
              "      <td>/content/Tomatoes/Tamotoes001882.png</td>\n",
              "    </tr>\n",
              "    <tr>\n",
              "      <th>70545</th>\n",
              "      <td>Tomatoes</td>\n",
              "      <td>/content/Tomatoes/Tamotoes001889.png</td>\n",
              "    </tr>\n",
              "    <tr>\n",
              "      <th>70546</th>\n",
              "      <td>Tomatoes</td>\n",
              "      <td>/content/Tomatoes/Tamotoes001141.png</td>\n",
              "    </tr>\n",
              "    <tr>\n",
              "      <th>70547</th>\n",
              "      <td>Tomatoes</td>\n",
              "      <td>/content/Tomatoes/Tamotoes00775.png</td>\n",
              "    </tr>\n",
              "    <tr>\n",
              "      <th>70548</th>\n",
              "      <td>Tomatoes</td>\n",
              "      <td>/content/Tomatoes/Tamotoes00632.png</td>\n",
              "    </tr>\n",
              "  </tbody>\n",
              "</table>\n",
              "<p>70549 rows × 2 columns</p>\n",
              "</div>"
            ],
            "text/plain": [
              "          Fruit                                               Path\n",
              "0         Apple  /content/Apple/Total Number of Apples/Apple 03...\n",
              "1         Apple  /content/Apple/Total Number of Apples/Apple 01...\n",
              "2         Apple  /content/Apple/Total Number of Apples/Apple_0_...\n",
              "3         Apple  /content/Apple/Total Number of Apples/Apple 01...\n",
              "4         Apple  /content/Apple/Total Number of Apples/Apple 01...\n",
              "...         ...                                                ...\n",
              "70544  Tomatoes               /content/Tomatoes/Tamotoes001882.png\n",
              "70545  Tomatoes               /content/Tomatoes/Tamotoes001889.png\n",
              "70546  Tomatoes               /content/Tomatoes/Tamotoes001141.png\n",
              "70547  Tomatoes                /content/Tomatoes/Tamotoes00775.png\n",
              "70548  Tomatoes                /content/Tomatoes/Tamotoes00632.png\n",
              "\n",
              "[70549 rows x 2 columns]"
            ]
          },
          "metadata": {
            "tags": []
          },
          "execution_count": 11
        }
      ]
    },
    {
      "cell_type": "code",
      "metadata": {
        "ExecuteTime": {
          "end_time": "2021-05-04T09:17:30.519959Z",
          "start_time": "2021-05-04T09:17:30.473547Z"
        },
        "id": "excessive-dover"
      },
      "source": [
        "## Removing DS_store\n",
        "\n",
        "for path in df.Path:\n",
        "    count_to_drop = 0 \n",
        "    if 'DS_Store'in str(path):\n",
        "        df = df.drop(df.index[count_to_drop])\n",
        "    count_to_drop = count_to_drop + 1\n",
        "        "
      ],
      "id": "excessive-dover",
      "execution_count": 12,
      "outputs": []
    },
    {
      "cell_type": "code",
      "metadata": {
        "ExecuteTime": {
          "end_time": "2021-05-04T09:17:43.802518Z",
          "start_time": "2021-05-04T09:17:43.792060Z"
        },
        "id": "neutral-jason",
        "colab": {
          "base_uri": "https://localhost:8080/",
          "height": 419
        },
        "outputId": "73008340-5485-4907-d67e-415e90bf4989"
      },
      "source": [
        "df"
      ],
      "id": "neutral-jason",
      "execution_count": 13,
      "outputs": [
        {
          "output_type": "execute_result",
          "data": {
            "text/html": [
              "<div>\n",
              "<style scoped>\n",
              "    .dataframe tbody tr th:only-of-type {\n",
              "        vertical-align: middle;\n",
              "    }\n",
              "\n",
              "    .dataframe tbody tr th {\n",
              "        vertical-align: top;\n",
              "    }\n",
              "\n",
              "    .dataframe thead th {\n",
              "        text-align: right;\n",
              "    }\n",
              "</style>\n",
              "<table border=\"1\" class=\"dataframe\">\n",
              "  <thead>\n",
              "    <tr style=\"text-align: right;\">\n",
              "      <th></th>\n",
              "      <th>Fruit</th>\n",
              "      <th>Path</th>\n",
              "    </tr>\n",
              "  </thead>\n",
              "  <tbody>\n",
              "    <tr>\n",
              "      <th>0</th>\n",
              "      <td>Apple</td>\n",
              "      <td>/content/Apple/Total Number of Apples/Apple 03...</td>\n",
              "    </tr>\n",
              "    <tr>\n",
              "      <th>1</th>\n",
              "      <td>Apple</td>\n",
              "      <td>/content/Apple/Total Number of Apples/Apple 01...</td>\n",
              "    </tr>\n",
              "    <tr>\n",
              "      <th>2</th>\n",
              "      <td>Apple</td>\n",
              "      <td>/content/Apple/Total Number of Apples/Apple_0_...</td>\n",
              "    </tr>\n",
              "    <tr>\n",
              "      <th>3</th>\n",
              "      <td>Apple</td>\n",
              "      <td>/content/Apple/Total Number of Apples/Apple 01...</td>\n",
              "    </tr>\n",
              "    <tr>\n",
              "      <th>4</th>\n",
              "      <td>Apple</td>\n",
              "      <td>/content/Apple/Total Number of Apples/Apple 01...</td>\n",
              "    </tr>\n",
              "    <tr>\n",
              "      <th>...</th>\n",
              "      <td>...</td>\n",
              "      <td>...</td>\n",
              "    </tr>\n",
              "    <tr>\n",
              "      <th>70544</th>\n",
              "      <td>Tomatoes</td>\n",
              "      <td>/content/Tomatoes/Tamotoes001882.png</td>\n",
              "    </tr>\n",
              "    <tr>\n",
              "      <th>70545</th>\n",
              "      <td>Tomatoes</td>\n",
              "      <td>/content/Tomatoes/Tamotoes001889.png</td>\n",
              "    </tr>\n",
              "    <tr>\n",
              "      <th>70546</th>\n",
              "      <td>Tomatoes</td>\n",
              "      <td>/content/Tomatoes/Tamotoes001141.png</td>\n",
              "    </tr>\n",
              "    <tr>\n",
              "      <th>70547</th>\n",
              "      <td>Tomatoes</td>\n",
              "      <td>/content/Tomatoes/Tamotoes00775.png</td>\n",
              "    </tr>\n",
              "    <tr>\n",
              "      <th>70548</th>\n",
              "      <td>Tomatoes</td>\n",
              "      <td>/content/Tomatoes/Tamotoes00632.png</td>\n",
              "    </tr>\n",
              "  </tbody>\n",
              "</table>\n",
              "<p>70549 rows × 2 columns</p>\n",
              "</div>"
            ],
            "text/plain": [
              "          Fruit                                               Path\n",
              "0         Apple  /content/Apple/Total Number of Apples/Apple 03...\n",
              "1         Apple  /content/Apple/Total Number of Apples/Apple 01...\n",
              "2         Apple  /content/Apple/Total Number of Apples/Apple_0_...\n",
              "3         Apple  /content/Apple/Total Number of Apples/Apple 01...\n",
              "4         Apple  /content/Apple/Total Number of Apples/Apple 01...\n",
              "...         ...                                                ...\n",
              "70544  Tomatoes               /content/Tomatoes/Tamotoes001882.png\n",
              "70545  Tomatoes               /content/Tomatoes/Tamotoes001889.png\n",
              "70546  Tomatoes               /content/Tomatoes/Tamotoes001141.png\n",
              "70547  Tomatoes                /content/Tomatoes/Tamotoes00775.png\n",
              "70548  Tomatoes                /content/Tomatoes/Tamotoes00632.png\n",
              "\n",
              "[70549 rows x 2 columns]"
            ]
          },
          "metadata": {
            "tags": []
          },
          "execution_count": 13
        }
      ]
    },
    {
      "cell_type": "markdown",
      "metadata": {
        "ExecuteTime": {
          "end_time": "2021-05-04T09:17:04.207954Z",
          "start_time": "2021-05-04T09:17:04.184452Z"
        },
        "id": "opponent-government"
      },
      "source": [
        "## Preping the data "
      ],
      "id": "opponent-government"
    },
    {
      "cell_type": "code",
      "metadata": {
        "ExecuteTime": {
          "end_time": "2021-05-04T09:22:38.676716Z",
          "start_time": "2021-05-04T09:22:30.802305Z"
        },
        "id": "horizontal-intranet",
        "colab": {
          "base_uri": "https://localhost:8080/",
          "height": 419
        },
        "outputId": "c39c815d-3fcd-41d7-d303-111a196b91e2"
      },
      "source": [
        "# Shuffling data\n",
        "\n",
        "from sklearn.utils import shuffle\n",
        "\n",
        "df = shuffle(df, random_state = 0)\n",
        "\n",
        "df = df.reset_index(drop=True)\n",
        "\n",
        "df"
      ],
      "id": "horizontal-intranet",
      "execution_count": 14,
      "outputs": [
        {
          "output_type": "execute_result",
          "data": {
            "text/html": [
              "<div>\n",
              "<style scoped>\n",
              "    .dataframe tbody tr th:only-of-type {\n",
              "        vertical-align: middle;\n",
              "    }\n",
              "\n",
              "    .dataframe tbody tr th {\n",
              "        vertical-align: top;\n",
              "    }\n",
              "\n",
              "    .dataframe thead th {\n",
              "        text-align: right;\n",
              "    }\n",
              "</style>\n",
              "<table border=\"1\" class=\"dataframe\">\n",
              "  <thead>\n",
              "    <tr style=\"text-align: right;\">\n",
              "      <th></th>\n",
              "      <th>Fruit</th>\n",
              "      <th>Path</th>\n",
              "    </tr>\n",
              "  </thead>\n",
              "  <tbody>\n",
              "    <tr>\n",
              "      <th>0</th>\n",
              "      <td>Apple</td>\n",
              "      <td>/content/Apple/Total Number of Apples/Apple 02...</td>\n",
              "    </tr>\n",
              "    <tr>\n",
              "      <th>1</th>\n",
              "      <td>Apple</td>\n",
              "      <td>/content/Apple/Total Number of Apples/Apple 01...</td>\n",
              "    </tr>\n",
              "    <tr>\n",
              "      <th>2</th>\n",
              "      <td>Kiwi</td>\n",
              "      <td>/content/Kiwi/Kiwi C/Kiwi C00977.png</td>\n",
              "    </tr>\n",
              "    <tr>\n",
              "      <th>3</th>\n",
              "      <td>Pomegranate</td>\n",
              "      <td>/content/Pomegranate/Pomegranet001637.png</td>\n",
              "    </tr>\n",
              "    <tr>\n",
              "      <th>4</th>\n",
              "      <td>Guava</td>\n",
              "      <td>/content/Guava/guava A/scene07181.png</td>\n",
              "    </tr>\n",
              "    <tr>\n",
              "      <th>...</th>\n",
              "      <td>...</td>\n",
              "      <td>...</td>\n",
              "    </tr>\n",
              "    <tr>\n",
              "      <th>70544</th>\n",
              "      <td>Guava</td>\n",
              "      <td>/content/Guava/Guava total/1GuavaуАВ3126 resiz...</td>\n",
              "    </tr>\n",
              "    <tr>\n",
              "      <th>70545</th>\n",
              "      <td>Mango</td>\n",
              "      <td>/content/Mango/Mango002659.png</td>\n",
              "    </tr>\n",
              "    <tr>\n",
              "      <th>70546</th>\n",
              "      <td>Kiwi</td>\n",
              "      <td>/content/Kiwi/Kiwi C/Kiwi C0095.png</td>\n",
              "    </tr>\n",
              "    <tr>\n",
              "      <th>70547</th>\n",
              "      <td>Kiwi</td>\n",
              "      <td>/content/Kiwi/Kiwi B/Kiwi B00943.png</td>\n",
              "    </tr>\n",
              "    <tr>\n",
              "      <th>70548</th>\n",
              "      <td>Pomegranate</td>\n",
              "      <td>/content/Pomegranate/Pomegranet001987.png</td>\n",
              "    </tr>\n",
              "  </tbody>\n",
              "</table>\n",
              "<p>70549 rows × 2 columns</p>\n",
              "</div>"
            ],
            "text/plain": [
              "             Fruit                                               Path\n",
              "0            Apple  /content/Apple/Total Number of Apples/Apple 02...\n",
              "1            Apple  /content/Apple/Total Number of Apples/Apple 01...\n",
              "2             Kiwi               /content/Kiwi/Kiwi C/Kiwi C00977.png\n",
              "3      Pomegranate          /content/Pomegranate/Pomegranet001637.png\n",
              "4            Guava              /content/Guava/guava A/scene07181.png\n",
              "...            ...                                                ...\n",
              "70544        Guava  /content/Guava/Guava total/1GuavaуАВ3126 resiz...\n",
              "70545        Mango                     /content/Mango/Mango002659.png\n",
              "70546         Kiwi                /content/Kiwi/Kiwi C/Kiwi C0095.png\n",
              "70547         Kiwi               /content/Kiwi/Kiwi B/Kiwi B00943.png\n",
              "70548  Pomegranate          /content/Pomegranate/Pomegranet001987.png\n",
              "\n",
              "[70549 rows x 2 columns]"
            ]
          },
          "metadata": {
            "tags": []
          },
          "execution_count": 14
        }
      ]
    },
    {
      "cell_type": "code",
      "metadata": {
        "ExecuteTime": {
          "end_time": "2021-05-04T09:56:37.406243Z",
          "start_time": "2021-05-04T09:56:37.336992Z"
        },
        "id": "processed-shaft",
        "colab": {
          "base_uri": "https://localhost:8080/",
          "height": 241
        },
        "outputId": "a6c1dbb0-8efb-43b6-cad6-78993e7e72f4"
      },
      "source": [
        "# adding a label to the data \n",
        "\n",
        "fruit_names = sorted(df.Fruit.unique())\n",
        "mapper_fruit_names = dict(zip(fruit_names, [t for t in range(len(fruit_names))]))\n",
        "df[\"label\"] = df[\"Fruit\"].map(mapper_fruit_names)\n",
        "print(mapper_fruit_names)\n",
        "\n",
        "# Visualize the resulting dataframe\n",
        "df.head()"
      ],
      "id": "processed-shaft",
      "execution_count": 15,
      "outputs": [
        {
          "output_type": "stream",
          "text": [
            "{'Apple': 0, 'Banana': 1, 'Carambola': 2, 'Guava': 3, 'Kiwi': 4, 'Mango': 5, 'Orange': 6, 'Peach': 7, 'Pear': 8, 'Persimmon': 9, 'Pitaya': 10, 'Plum': 11, 'Pomegranate': 12, 'Tomatoes': 13, 'muskmelon': 14}\n"
          ],
          "name": "stdout"
        },
        {
          "output_type": "execute_result",
          "data": {
            "text/html": [
              "<div>\n",
              "<style scoped>\n",
              "    .dataframe tbody tr th:only-of-type {\n",
              "        vertical-align: middle;\n",
              "    }\n",
              "\n",
              "    .dataframe tbody tr th {\n",
              "        vertical-align: top;\n",
              "    }\n",
              "\n",
              "    .dataframe thead th {\n",
              "        text-align: right;\n",
              "    }\n",
              "</style>\n",
              "<table border=\"1\" class=\"dataframe\">\n",
              "  <thead>\n",
              "    <tr style=\"text-align: right;\">\n",
              "      <th></th>\n",
              "      <th>Fruit</th>\n",
              "      <th>Path</th>\n",
              "      <th>label</th>\n",
              "    </tr>\n",
              "  </thead>\n",
              "  <tbody>\n",
              "    <tr>\n",
              "      <th>0</th>\n",
              "      <td>Apple</td>\n",
              "      <td>/content/Apple/Total Number of Apples/Apple 02...</td>\n",
              "      <td>0</td>\n",
              "    </tr>\n",
              "    <tr>\n",
              "      <th>1</th>\n",
              "      <td>Apple</td>\n",
              "      <td>/content/Apple/Total Number of Apples/Apple 01...</td>\n",
              "      <td>0</td>\n",
              "    </tr>\n",
              "    <tr>\n",
              "      <th>2</th>\n",
              "      <td>Kiwi</td>\n",
              "      <td>/content/Kiwi/Kiwi C/Kiwi C00977.png</td>\n",
              "      <td>4</td>\n",
              "    </tr>\n",
              "    <tr>\n",
              "      <th>3</th>\n",
              "      <td>Pomegranate</td>\n",
              "      <td>/content/Pomegranate/Pomegranet001637.png</td>\n",
              "      <td>12</td>\n",
              "    </tr>\n",
              "    <tr>\n",
              "      <th>4</th>\n",
              "      <td>Guava</td>\n",
              "      <td>/content/Guava/guava A/scene07181.png</td>\n",
              "      <td>3</td>\n",
              "    </tr>\n",
              "  </tbody>\n",
              "</table>\n",
              "</div>"
            ],
            "text/plain": [
              "         Fruit                                               Path  label\n",
              "0        Apple  /content/Apple/Total Number of Apples/Apple 02...      0\n",
              "1        Apple  /content/Apple/Total Number of Apples/Apple 01...      0\n",
              "2         Kiwi               /content/Kiwi/Kiwi C/Kiwi C00977.png      4\n",
              "3  Pomegranate          /content/Pomegranate/Pomegranet001637.png     12\n",
              "4        Guava              /content/Guava/guava A/scene07181.png      3"
            ]
          },
          "metadata": {
            "tags": []
          },
          "execution_count": 15
        }
      ]
    },
    {
      "cell_type": "markdown",
      "metadata": {
        "id": "suspended-referral"
      },
      "source": [
        "# Preping to model"
      ],
      "id": "suspended-referral"
    },
    {
      "cell_type": "code",
      "metadata": {
        "ExecuteTime": {
          "end_time": "2021-05-04T10:15:44.322202Z",
          "start_time": "2021-05-04T10:15:44.318819Z"
        },
        "id": "skilled-arcade"
      },
      "source": [
        "# Reshaping the image"
      ],
      "id": "skilled-arcade",
      "execution_count": 16,
      "outputs": []
    },
    {
      "cell_type": "code",
      "metadata": {
        "ExecuteTime": {
          "start_time": "2021-05-04T10:19:27.458Z"
        },
        "id": "healthy-realtor"
      },
      "source": [
        "def load_img(df):\n",
        "# Load the images using their contained in the dataframe df\n",
        "# Return a list of images and a list with the labels of the images\n",
        "    img_paths = df[\"Path\"].values\n",
        "    img_labels = df[\"Fruit\"].values\n",
        "    X = []\n",
        "    y = []\n",
        "    \n",
        "    for i,path in enumerate(img_paths):\n",
        "        img =  cv2.imread(path)\n",
        "        img = cv2.resize(img, (150,150))\n",
        "        label = img_labels[i]\n",
        "        X.append(img)\n",
        "        y.append(label)\n",
        "    return np.array(X),np.array(y)\n",
        "\n",
        "\n"
      ],
      "id": "healthy-realtor",
      "execution_count": 17,
      "outputs": []
    },
    {
      "cell_type": "code",
      "metadata": {
        "id": "portuguese-necklace"
      },
      "source": [
        "X, y = load_img(df)"
      ],
      "id": "portuguese-necklace",
      "execution_count": 18,
      "outputs": []
    },
    {
      "cell_type": "code",
      "metadata": {
        "id": "BeT9sA5G8QlH",
        "colab": {
          "base_uri": "https://localhost:8080/"
        },
        "outputId": "09c9a880-fc47-47dc-c1b4-e0cb4577e791"
      },
      "source": [
        "y.shape"
      ],
      "id": "BeT9sA5G8QlH",
      "execution_count": 19,
      "outputs": [
        {
          "output_type": "execute_result",
          "data": {
            "text/plain": [
              "(70549,)"
            ]
          },
          "metadata": {
            "tags": []
          },
          "execution_count": 19
        }
      ]
    },
    {
      "cell_type": "code",
      "metadata": {
        "colab": {
          "base_uri": "https://localhost:8080/"
        },
        "id": "Q--9TyQpDNu7",
        "outputId": "cc56d1be-67df-44fe-ed0d-1f37025d076c"
      },
      "source": [
        "length = len(mapper_fruit_names)\n",
        "length"
      ],
      "id": "Q--9TyQpDNu7",
      "execution_count": 20,
      "outputs": [
        {
          "output_type": "execute_result",
          "data": {
            "text/plain": [
              "15"
            ]
          },
          "metadata": {
            "tags": []
          },
          "execution_count": 20
        }
      ]
    },
    {
      "cell_type": "code",
      "metadata": {
        "colab": {
          "base_uri": "https://localhost:8080/"
        },
        "id": "2XMNcTSKGEYa",
        "outputId": "40f90d30-7eaa-492d-bbc0-915c9f2fc717"
      },
      "source": [
        "y"
      ],
      "id": "2XMNcTSKGEYa",
      "execution_count": 21,
      "outputs": [
        {
          "output_type": "execute_result",
          "data": {
            "text/plain": [
              "array(['Apple', 'Apple', 'Kiwi', ..., 'Kiwi', 'Kiwi', 'Pomegranate'],\n",
              "      dtype='<U11')"
            ]
          },
          "metadata": {
            "tags": []
          },
          "execution_count": 21
        }
      ]
    },
    {
      "cell_type": "code",
      "metadata": {
        "id": "NwkQFRC1CumJ"
      },
      "source": [
        "from sklearn import preprocessing\n",
        "le = preprocessing.LabelEncoder()\n",
        "\n",
        "y = le.fit_transform(y)"
      ],
      "id": "NwkQFRC1CumJ",
      "execution_count": 22,
      "outputs": []
    },
    {
      "cell_type": "code",
      "metadata": {
        "id": "3_nyBk_i8T5u"
      },
      "source": [
        "from sklearn.model_selection import train_test_split\n",
        "X_train, X_test, y_train, y_test = train_test_split(X, y, test_size=0.1, random_state=42)\n",
        "\n"
      ],
      "id": "3_nyBk_i8T5u",
      "execution_count": 23,
      "outputs": []
    },
    {
      "cell_type": "code",
      "metadata": {
        "id": "0cdUbpfXjMyK",
        "colab": {
          "base_uri": "https://localhost:8080/"
        },
        "outputId": "7b714e02-eb6c-4b16-d0eb-ed828776d5ad"
      },
      "source": [
        "X_train.shape"
      ],
      "id": "0cdUbpfXjMyK",
      "execution_count": 24,
      "outputs": [
        {
          "output_type": "execute_result",
          "data": {
            "text/plain": [
              "(63494, 150, 150, 3)"
            ]
          },
          "metadata": {
            "tags": []
          },
          "execution_count": 24
        }
      ]
    },
    {
      "cell_type": "code",
      "metadata": {
        "id": "5j3JuzeIYw1o"
      },
      "source": [
        "shape_img = (150,150,3)"
      ],
      "id": "5j3JuzeIYw1o",
      "execution_count": 25,
      "outputs": []
    },
    {
      "cell_type": "code",
      "metadata": {
        "id": "eN12UUc-BjPi"
      },
      "source": [
        ""
      ],
      "id": "eN12UUc-BjPi",
      "execution_count": 25,
      "outputs": []
    },
    {
      "cell_type": "code",
      "metadata": {
        "id": "04wpZuhQYBXB",
        "colab": {
          "base_uri": "https://localhost:8080/"
        },
        "outputId": "5432110a-0549-46b7-97a8-58c3badd35ce"
      },
      "source": [
        "import tensorflow as tf\n",
        "from tensorflow.keras import layers\n",
        "  \n",
        "model =  tf.keras.models.Sequential([\n",
        "\n",
        "        tf.keras.layers.Conv2D(32 ,(3,3), activation = 'relu', input_shape = shape_img, padding = 'same'),\n",
        "        tf.keras.layers.MaxPooling2D(2,2),\n",
        "\n",
        "        tf.keras.layers.Conv2D(64 ,(3,3), activation = 'relu',padding = 'same'),\n",
        "        tf.keras.layers.MaxPooling2D(2,2),\n",
        "\n",
        "        tf.keras.layers.Conv2D(64 ,(3,3), activation = 'relu', padding = 'same'),\n",
        "        tf.keras.layers.MaxPooling2D(2,2),\n",
        "\n",
        "        tf.keras.layers.Conv2D(64 ,(3,3), activation = 'relu', padding = 'same'),\n",
        "        tf.keras.layers.MaxPooling2D(2,2),\n",
        "\n",
        "        tf.keras.layers.Conv2D(64 ,(3,3), activation = 'relu', padding = 'same'),\n",
        "        tf.keras.layers.MaxPooling2D(2,2),\n",
        "\n",
        "        tf.keras.layers.Conv2D(32 ,(3,3), activation = 'relu', padding = 'same'),\n",
        "        tf.keras.layers.MaxPooling2D(2,2),\n",
        "\n",
        "        tf.keras.layers.Flatten(),\n",
        "        tf.keras.layers.Dense(256, activation='relu'),\n",
        "        tf.keras.layers.Dropout(0.2),\n",
        "        tf.keras.layers.Dense(15, activation = 'softmax')\n",
        "\n",
        "                                     \n",
        "])\n",
        "\n",
        "\n",
        "\n",
        "model.summary()\n",
        "\n",
        "model.compile(loss='sparse_categorical_crossentropy',optimizer='adam',metrics=['accuracy'])"
      ],
      "id": "04wpZuhQYBXB",
      "execution_count": 26,
      "outputs": [
        {
          "output_type": "stream",
          "text": [
            "Model: \"sequential\"\n",
            "_________________________________________________________________\n",
            "Layer (type)                 Output Shape              Param #   \n",
            "=================================================================\n",
            "conv2d (Conv2D)              (None, 150, 150, 32)      896       \n",
            "_________________________________________________________________\n",
            "max_pooling2d (MaxPooling2D) (None, 75, 75, 32)        0         \n",
            "_________________________________________________________________\n",
            "conv2d_1 (Conv2D)            (None, 75, 75, 64)        18496     \n",
            "_________________________________________________________________\n",
            "max_pooling2d_1 (MaxPooling2 (None, 37, 37, 64)        0         \n",
            "_________________________________________________________________\n",
            "conv2d_2 (Conv2D)            (None, 37, 37, 64)        36928     \n",
            "_________________________________________________________________\n",
            "max_pooling2d_2 (MaxPooling2 (None, 18, 18, 64)        0         \n",
            "_________________________________________________________________\n",
            "conv2d_3 (Conv2D)            (None, 18, 18, 64)        36928     \n",
            "_________________________________________________________________\n",
            "max_pooling2d_3 (MaxPooling2 (None, 9, 9, 64)          0         \n",
            "_________________________________________________________________\n",
            "conv2d_4 (Conv2D)            (None, 9, 9, 64)          36928     \n",
            "_________________________________________________________________\n",
            "max_pooling2d_4 (MaxPooling2 (None, 4, 4, 64)          0         \n",
            "_________________________________________________________________\n",
            "conv2d_5 (Conv2D)            (None, 4, 4, 32)          18464     \n",
            "_________________________________________________________________\n",
            "max_pooling2d_5 (MaxPooling2 (None, 2, 2, 32)          0         \n",
            "_________________________________________________________________\n",
            "flatten (Flatten)            (None, 128)               0         \n",
            "_________________________________________________________________\n",
            "dense (Dense)                (None, 256)               33024     \n",
            "_________________________________________________________________\n",
            "dropout (Dropout)            (None, 256)               0         \n",
            "_________________________________________________________________\n",
            "dense_1 (Dense)              (None, 15)                3855      \n",
            "=================================================================\n",
            "Total params: 185,519\n",
            "Trainable params: 185,519\n",
            "Non-trainable params: 0\n",
            "_________________________________________________________________\n"
          ],
          "name": "stdout"
        }
      ]
    },
    {
      "cell_type": "code",
      "metadata": {
        "id": "jwLEtt1n1MjJ",
        "colab": {
          "base_uri": "https://localhost:8080/",
          "height": 419
        },
        "outputId": "994018fa-819a-4a4f-daba-d89bfae9cae6"
      },
      "source": [
        "df"
      ],
      "id": "jwLEtt1n1MjJ",
      "execution_count": 27,
      "outputs": [
        {
          "output_type": "execute_result",
          "data": {
            "text/html": [
              "<div>\n",
              "<style scoped>\n",
              "    .dataframe tbody tr th:only-of-type {\n",
              "        vertical-align: middle;\n",
              "    }\n",
              "\n",
              "    .dataframe tbody tr th {\n",
              "        vertical-align: top;\n",
              "    }\n",
              "\n",
              "    .dataframe thead th {\n",
              "        text-align: right;\n",
              "    }\n",
              "</style>\n",
              "<table border=\"1\" class=\"dataframe\">\n",
              "  <thead>\n",
              "    <tr style=\"text-align: right;\">\n",
              "      <th></th>\n",
              "      <th>Fruit</th>\n",
              "      <th>Path</th>\n",
              "      <th>label</th>\n",
              "    </tr>\n",
              "  </thead>\n",
              "  <tbody>\n",
              "    <tr>\n",
              "      <th>0</th>\n",
              "      <td>Apple</td>\n",
              "      <td>/content/Apple/Total Number of Apples/Apple 02...</td>\n",
              "      <td>0</td>\n",
              "    </tr>\n",
              "    <tr>\n",
              "      <th>1</th>\n",
              "      <td>Apple</td>\n",
              "      <td>/content/Apple/Total Number of Apples/Apple 01...</td>\n",
              "      <td>0</td>\n",
              "    </tr>\n",
              "    <tr>\n",
              "      <th>2</th>\n",
              "      <td>Kiwi</td>\n",
              "      <td>/content/Kiwi/Kiwi C/Kiwi C00977.png</td>\n",
              "      <td>4</td>\n",
              "    </tr>\n",
              "    <tr>\n",
              "      <th>3</th>\n",
              "      <td>Pomegranate</td>\n",
              "      <td>/content/Pomegranate/Pomegranet001637.png</td>\n",
              "      <td>12</td>\n",
              "    </tr>\n",
              "    <tr>\n",
              "      <th>4</th>\n",
              "      <td>Guava</td>\n",
              "      <td>/content/Guava/guava A/scene07181.png</td>\n",
              "      <td>3</td>\n",
              "    </tr>\n",
              "    <tr>\n",
              "      <th>...</th>\n",
              "      <td>...</td>\n",
              "      <td>...</td>\n",
              "      <td>...</td>\n",
              "    </tr>\n",
              "    <tr>\n",
              "      <th>70544</th>\n",
              "      <td>Guava</td>\n",
              "      <td>/content/Guava/Guava total/1GuavaуАВ3126 resiz...</td>\n",
              "      <td>3</td>\n",
              "    </tr>\n",
              "    <tr>\n",
              "      <th>70545</th>\n",
              "      <td>Mango</td>\n",
              "      <td>/content/Mango/Mango002659.png</td>\n",
              "      <td>5</td>\n",
              "    </tr>\n",
              "    <tr>\n",
              "      <th>70546</th>\n",
              "      <td>Kiwi</td>\n",
              "      <td>/content/Kiwi/Kiwi C/Kiwi C0095.png</td>\n",
              "      <td>4</td>\n",
              "    </tr>\n",
              "    <tr>\n",
              "      <th>70547</th>\n",
              "      <td>Kiwi</td>\n",
              "      <td>/content/Kiwi/Kiwi B/Kiwi B00943.png</td>\n",
              "      <td>4</td>\n",
              "    </tr>\n",
              "    <tr>\n",
              "      <th>70548</th>\n",
              "      <td>Pomegranate</td>\n",
              "      <td>/content/Pomegranate/Pomegranet001987.png</td>\n",
              "      <td>12</td>\n",
              "    </tr>\n",
              "  </tbody>\n",
              "</table>\n",
              "<p>70549 rows × 3 columns</p>\n",
              "</div>"
            ],
            "text/plain": [
              "             Fruit                                               Path  label\n",
              "0            Apple  /content/Apple/Total Number of Apples/Apple 02...      0\n",
              "1            Apple  /content/Apple/Total Number of Apples/Apple 01...      0\n",
              "2             Kiwi               /content/Kiwi/Kiwi C/Kiwi C00977.png      4\n",
              "3      Pomegranate          /content/Pomegranate/Pomegranet001637.png     12\n",
              "4            Guava              /content/Guava/guava A/scene07181.png      3\n",
              "...            ...                                                ...    ...\n",
              "70544        Guava  /content/Guava/Guava total/1GuavaуАВ3126 resiz...      3\n",
              "70545        Mango                     /content/Mango/Mango002659.png      5\n",
              "70546         Kiwi                /content/Kiwi/Kiwi C/Kiwi C0095.png      4\n",
              "70547         Kiwi               /content/Kiwi/Kiwi B/Kiwi B00943.png      4\n",
              "70548  Pomegranate          /content/Pomegranate/Pomegranet001987.png     12\n",
              "\n",
              "[70549 rows x 3 columns]"
            ]
          },
          "metadata": {
            "tags": []
          },
          "execution_count": 27
        }
      ]
    },
    {
      "cell_type": "code",
      "metadata": {
        "colab": {
          "base_uri": "https://localhost:8080/"
        },
        "id": "LXEoRYNhABxr",
        "outputId": "f150d9ce-3591-42b7-d176-9dbe9ae8a410"
      },
      "source": [
        "X_train.shape"
      ],
      "id": "LXEoRYNhABxr",
      "execution_count": 28,
      "outputs": [
        {
          "output_type": "execute_result",
          "data": {
            "text/plain": [
              "(63494, 150, 150, 3)"
            ]
          },
          "metadata": {
            "tags": []
          },
          "execution_count": 28
        }
      ]
    },
    {
      "cell_type": "code",
      "metadata": {
        "colab": {
          "base_uri": "https://localhost:8080/"
        },
        "id": "se1JDJ-lBkrP",
        "outputId": "34ed68b4-58de-4245-a56a-0c9f14c824d6"
      },
      "source": [
        "y_train.shape\n"
      ],
      "id": "se1JDJ-lBkrP",
      "execution_count": 29,
      "outputs": [
        {
          "output_type": "execute_result",
          "data": {
            "text/plain": [
              "(63494,)"
            ]
          },
          "metadata": {
            "tags": []
          },
          "execution_count": 29
        }
      ]
    },
    {
      "cell_type": "code",
      "metadata": {
        "id": "71L3dVWv1ctp",
        "colab": {
          "base_uri": "https://localhost:8080/"
        },
        "outputId": "392d07bf-636a-4c25-8eea-14d1bd33d942"
      },
      "source": [
        "history = model.fit(X_train, y_train, \n",
        "                    validation_data = (X_test, y_test),\n",
        "                    epochs=5,\n",
        "                    batch_size = 128 )\n"
      ],
      "id": "71L3dVWv1ctp",
      "execution_count": null,
      "outputs": [
        {
          "output_type": "stream",
          "text": [
            "Epoch 1/5\n",
            "497/497 [==============================] - 53s 102ms/step - loss: 0.0485 - accuracy: 0.9820 - val_loss: 0.0450 - val_accuracy: 0.9830\n",
            "Epoch 2/5\n",
            "497/497 [==============================] - 50s 101ms/step - loss: 0.0298 - accuracy: 0.9888 - val_loss: 0.0595 - val_accuracy: 0.9809\n",
            "Epoch 3/5\n",
            "253/497 [==============>...............] - ETA: 1:00 - loss: 0.0243 - accuracy: 0.9909"
          ],
          "name": "stdout"
        }
      ]
    },
    {
      "cell_type": "code",
      "metadata": {
        "ExecuteTime": {
          "start_time": "2021-05-04T10:19:27.458Z"
        },
        "id": "cp7_KLir74x6",
        "colab": {
          "base_uri": "https://localhost:8080/",
          "height": 232
        },
        "outputId": "bc9f64d7-e994-4ee7-88de-32ec34df3b93"
      },
      "source": [
        "acc = []\n",
        "val_acc = []\n",
        "for i in range(len(history)):\n",
        "    acc += history[i][\"accuracy\"]\n",
        "    val_acc += history[i][\"val_accuracy\"]\n",
        "    \n",
        "hist_df = pd.DataFrame({\"# Epoch\": [e for e in range(1,len(acc)+1)],\"Accuracy\": acc, \"Val_accuracy\": val_acc})\n",
        "hist_df.plot(x = \"# Epoch\", y = [\"Accuracy\",\"Val_accuracy\"])\n",
        "plt.title(\"Accuracy vs Validation Accuracy\")\n",
        "plt.show()\n"
      ],
      "id": "cp7_KLir74x6",
      "execution_count": 31,
      "outputs": [
        {
          "output_type": "error",
          "ename": "NameError",
          "evalue": "ignored",
          "traceback": [
            "\u001b[0;31m---------------------------------------------------------------------------\u001b[0m",
            "\u001b[0;31mNameError\u001b[0m                                 Traceback (most recent call last)",
            "\u001b[0;32m<ipython-input-31-adae332780d6>\u001b[0m in \u001b[0;36m<module>\u001b[0;34m()\u001b[0m\n\u001b[1;32m      1\u001b[0m \u001b[0macc\u001b[0m \u001b[0;34m=\u001b[0m \u001b[0;34m[\u001b[0m\u001b[0;34m]\u001b[0m\u001b[0;34m\u001b[0m\u001b[0;34m\u001b[0m\u001b[0m\n\u001b[1;32m      2\u001b[0m \u001b[0mval_acc\u001b[0m \u001b[0;34m=\u001b[0m \u001b[0;34m[\u001b[0m\u001b[0;34m]\u001b[0m\u001b[0;34m\u001b[0m\u001b[0;34m\u001b[0m\u001b[0m\n\u001b[0;32m----> 3\u001b[0;31m \u001b[0;32mfor\u001b[0m \u001b[0mi\u001b[0m \u001b[0;32min\u001b[0m \u001b[0mrange\u001b[0m\u001b[0;34m(\u001b[0m\u001b[0mlen\u001b[0m\u001b[0;34m(\u001b[0m\u001b[0mhists\u001b[0m\u001b[0;34m)\u001b[0m\u001b[0;34m)\u001b[0m\u001b[0;34m:\u001b[0m\u001b[0;34m\u001b[0m\u001b[0;34m\u001b[0m\u001b[0m\n\u001b[0m\u001b[1;32m      4\u001b[0m     \u001b[0macc\u001b[0m \u001b[0;34m+=\u001b[0m \u001b[0mhists\u001b[0m\u001b[0;34m[\u001b[0m\u001b[0mi\u001b[0m\u001b[0;34m]\u001b[0m\u001b[0;34m[\u001b[0m\u001b[0;34m\"accuracy\"\u001b[0m\u001b[0;34m]\u001b[0m\u001b[0;34m\u001b[0m\u001b[0;34m\u001b[0m\u001b[0m\n\u001b[1;32m      5\u001b[0m     \u001b[0mval_acc\u001b[0m \u001b[0;34m+=\u001b[0m \u001b[0mhists\u001b[0m\u001b[0;34m[\u001b[0m\u001b[0mi\u001b[0m\u001b[0;34m]\u001b[0m\u001b[0;34m[\u001b[0m\u001b[0;34m\"val_accuracy\"\u001b[0m\u001b[0;34m]\u001b[0m\u001b[0;34m\u001b[0m\u001b[0;34m\u001b[0m\u001b[0m\n",
            "\u001b[0;31mNameError\u001b[0m: name 'hists' is not defined"
          ]
        }
      ]
    },
    {
      "cell_type": "code",
      "metadata": {
        "ExecuteTime": {
          "start_time": "2021-05-04T10:19:27.458Z"
        },
        "id": "YztsBva958WM"
      },
      "source": [
        ""
      ],
      "id": "YztsBva958WM",
      "execution_count": 30,
      "outputs": []
    },
    {
      "cell_type": "code",
      "metadata": {
        "id": "uD4QXlUa0O3z"
      },
      "source": [
        ""
      ],
      "id": "uD4QXlUa0O3z",
      "execution_count": 30,
      "outputs": []
    },
    {
      "cell_type": "code",
      "metadata": {
        "id": "AHQO1c01z83F"
      },
      "source": [
        ""
      ],
      "id": "AHQO1c01z83F",
      "execution_count": 30,
      "outputs": []
    },
    {
      "cell_type": "code",
      "metadata": {
        "id": "oDoIU7ggZem1"
      },
      "source": [
        ""
      ],
      "id": "oDoIU7ggZem1",
      "execution_count": 30,
      "outputs": []
    },
    {
      "cell_type": "code",
      "metadata": {
        "id": "BoyhA-vde_b-"
      },
      "source": [
        ""
      ],
      "id": "BoyhA-vde_b-",
      "execution_count": 30,
      "outputs": []
    },
    {
      "cell_type": "code",
      "metadata": {
        "id": "wYw0jeWSqprx"
      },
      "source": [
        ""
      ],
      "id": "wYw0jeWSqprx",
      "execution_count": 30,
      "outputs": []
    }
  ]
}